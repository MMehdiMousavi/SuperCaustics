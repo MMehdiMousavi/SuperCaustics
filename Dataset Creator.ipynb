{
 "cells": [
  {
   "cell_type": "markdown",
   "metadata": {},
   "source": [
    "# Imports "
   ]
  },
  {
   "cell_type": "code",
   "execution_count": null,
   "metadata": {},
   "outputs": [],
   "source": [
    "import numpy as np\n",
    "import imageio\n",
    "from matplotlib.pyplot import imshow\n",
    "import PIL.Image as Image\n",
    "import cv2\n"
   ]
  },
  {
   "cell_type": "code",
   "execution_count": null,
   "metadata": {},
   "outputs": [],
   "source": [
    "imageio.plugins.freeimage.download()"
   ]
  },
  {
   "cell_type": "code",
   "execution_count": null,
   "metadata": {},
   "outputs": [],
   "source": [
    "image = Image.open(\"UE1.png\")\n",
    "arr = np.asarray(image)\n",
    "print(arr)\n",
    "imshow(arr)\n",
    "#arr = cv2.imread(\"UE1.png\", cv2.IMREAD_UNCHANGED).astype(np.float32)\n",
    "\n",
    "# freeimage lib only supports float32 not float64 arrays\n",
    "arr = arr.astype(\"float32\")\n",
    "\n",
    "# # Write to disk\n",
    "imageio.imwrite('pil.exr', arr)\n"
   ]
  },
  {
   "cell_type": "code",
   "execution_count": null,
   "metadata": {
    "scrolled": false
   },
   "outputs": [],
   "source": [
    "# Read created exr from disk\n",
    "img = imageio.imread('float_img.exr')\n",
    "np.equal(img,arr)"
   ]
  },
  {
   "cell_type": "markdown",
   "metadata": {},
   "source": [
    "# Make Dataset Folders"
   ]
  },
  {
   "cell_type": "code",
   "execution_count": 64,
   "metadata": {},
   "outputs": [],
   "source": [
    "import io\n",
    "import os\n",
    "from glob import glob\n",
    "from PIL import Image, ImageEnhance\n",
    "import numpy as np\n",
    "import shutil\n",
    "\n",
    "os.chdir('E:/')\n",
    "dir_src = ('E:/Dataset/SuperCaustics/')\n",
    "\n",
    "Depth =   (dir_src + \"/Depth/\")\n",
    "Normal = (dir_src + \"/Normal/\")\n",
    "Pic =     (dir_src + \"/Picture/\")\n",
    "Outlines = (dir_src + \"/Outlines/\")\n",
    "Seg = (dir_src + \"/Seg/\")\n",
    "\n",
    "Depth_exr =   (dir_src + \"/Depth_exr/\")\n",
    "Normal_exr = (dir_src + \"/Normal_exr/\")\n",
    "Seg_exr = (dir_src + \"/Seg_exr/\")\n",
    "\n",
    "try:\n",
    "    os.mkdir(Depth)\n",
    "    os.mkdir(Normal)\n",
    "    os.mkdir(Pic)\n",
    "    os.mkdir(Outlines)\n",
    "    os.mkdir(Seg)\n",
    "    os.mkdir(Depth_exr)\n",
    "    os.mkdir(Normal_exr)\n",
    "    os.mkdir(Seg_exr)\n",
    "\n",
    "except OSError:\n",
    "        print('Directory not created.')\n",
    "\n"
   ]
  },
  {
   "cell_type": "markdown",
   "metadata": {},
   "source": [
    "# Move images into their respective folders (Order is important)"
   ]
  },
  {
   "cell_type": "code",
   "execution_count": 65,
   "metadata": {},
   "outputs": [
    {
     "name": "stdout",
     "output_type": "stream",
     "text": [
      "moved HighresScreenshot00000.png\n",
      "moved HighresScreenshot00001.png\n",
      "moved HighresScreenshot00002.png\n",
      "moved HighresScreenshot00003.png\n",
      "moved HighresScreenshot00004.png\n",
      "moved HighresScreenshot00005.png\n",
      "moved HighresScreenshot00006.png\n",
      "moved HighresScreenshot00007.png\n",
      "moved HighresScreenshot00008.png\n",
      "moved HighresScreenshot00009.png\n",
      "moved HighresScreenshot00010.png\n",
      "moved HighresScreenshot00011.png\n",
      "moved HighresScreenshot00012.png\n",
      "moved HighresScreenshot00013.png\n",
      "moved HighresScreenshot00014.png\n",
      "moved HighresScreenshot00015.png\n",
      "moved HighresScreenshot00016.png\n",
      "moved HighresScreenshot00017.png\n",
      "moved HighresScreenshot00018.png\n",
      "moved HighresScreenshot00019.png\n"
     ]
    }
   ],
   "source": [
    "counter = 1\n",
    "for filename in os.listdir(dir_src):\n",
    "\n",
    "    if counter == 1:\n",
    "        if filename.endswith('.png'):\n",
    "            shutil.move(dir_src + filename, Pic)\n",
    "            print(\"moved \" + filename)\n",
    "            counter = counter+1\n",
    "\n",
    "    elif counter == 2:\n",
    "        if filename.endswith('.png'):\n",
    "            shutil.move(dir_src + filename, Depth) #Depth\n",
    "            print(\"moved \" + filename)\n",
    "            counter = counter+1\n",
    "\n",
    "    elif counter == 3:\n",
    "        if filename.endswith('.png'):\n",
    "            shutil.move(dir_src + filename, Normal) #Normal\n",
    "            print(\"moved \" + filename)\n",
    "            counter = counter+1\n",
    "            \n",
    "    elif counter == 4:\n",
    "        if filename.endswith('.png'):\n",
    "            shutil.move(dir_src + filename, Outlines) #Outlines\n",
    "            print(\"moved \" + filename)\n",
    "            counter = counter+1\n",
    "\n",
    "    elif counter == 5:\n",
    "        if filename.endswith('.png'):\n",
    "            shutil.move(dir_src + filename, Seg) #Seg\n",
    "            print(\"moved \" + filename)\n",
    "            counter = 1\n"
   ]
  },
  {
   "cell_type": "markdown",
   "metadata": {},
   "source": [
    "# Rename raw images in each folder to have the same name"
   ]
  },
  {
   "cell_type": "code",
   "execution_count": 66,
   "metadata": {},
   "outputs": [
    {
     "name": "stdout",
     "output_type": "stream",
     "text": [
      "renamed HighresScreenshot00000.png\n",
      "renamed HighresScreenshot00005.png\n",
      "renamed HighresScreenshot00010.png\n",
      "renamed HighresScreenshot00015.png\n",
      "renamed HighresScreenshot00001.png\n",
      "renamed HighresScreenshot00006.png\n",
      "renamed HighresScreenshot00011.png\n",
      "renamed HighresScreenshot00016.png\n",
      "renamed HighresScreenshot00002.png\n",
      "renamed HighresScreenshot00007.png\n",
      "renamed HighresScreenshot00012.png\n",
      "renamed HighresScreenshot00017.png\n",
      "renamed HighresScreenshot00003.png\n",
      "renamed HighresScreenshot00008.png\n",
      "renamed HighresScreenshot00013.png\n",
      "renamed HighresScreenshot00018.png\n",
      "renamed HighresScreenshot00004.png\n",
      "renamed HighresScreenshot00009.png\n",
      "renamed HighresScreenshot00014.png\n",
      "renamed HighresScreenshot00019.png\n"
     ]
    }
   ],
   "source": [
    "i = 0\n",
    "for filename in os.listdir(Pic):\n",
    "    os.rename(Pic + '/' + filename, Pic + '/' + str(i) + '.png')\n",
    "    i = i + 1\n",
    "    print(\"renamed \" + filename)\n",
    "\n",
    "j = 0\n",
    "for filename in os.listdir(Depth):\n",
    "    os.rename(Depth + '/' + filename, Depth + '/' + str(j) + '.png')\n",
    "    j = j + 1\n",
    "    print(\"renamed \" + filename)\n",
    "\n",
    "k = 0\n",
    "for filename in os.listdir(Normal):\n",
    "    os.rename(Normal + '/' + filename, Normal + '/' + str(k) + '.png')\n",
    "    k = k + 1\n",
    "    print(\"renamed \" + filename)\n",
    "    \n",
    "l = 0\n",
    "for filename in os.listdir(Outlines):\n",
    "    os.rename(Outlines + '/' + filename, Outlines + '/' + str(l) + '.png')\n",
    "    l = l + 1\n",
    "    print(\"renamed \" + filename)\n",
    "    \n",
    "m = 0\n",
    "for filename in os.listdir(Seg):\n",
    "    os.rename(Seg + '/' + filename, Seg + '/' + str(m) + '.png')\n",
    "    m = m + 1\n",
    "    print(\"renamed \" + filename)\n"
   ]
  },
  {
   "cell_type": "markdown",
   "metadata": {},
   "source": [
    "# Converting To EXR for Cleargrasp"
   ]
  },
  {
   "cell_type": "code",
   "execution_count": 75,
   "metadata": {},
   "outputs": [
    {
     "name": "stdout",
     "output_type": "stream",
     "text": [
      "E:/Dataset/SuperCaustics//Depth/0.png\n",
      "E:/Dataset/SuperCaustics//Depth/1.png\n",
      "E:/Dataset/SuperCaustics//Depth/2.png\n",
      "E:/Dataset/SuperCaustics//Depth/3.png\n"
     ]
    }
   ],
   "source": [
    "for filename in os.listdir(Depth):\n",
    "    address = Depth + filename\n",
    "    print(address)\n",
    "    image = Image.open(address)\n",
    "    arr = np.asarray(image)\n",
    "    arr = arr.astype(\"float32\")\n",
    "    imageio.imwrite(address.replace('.png','.exr'), arr)\n",
    "    "
   ]
  },
  {
   "cell_type": "code",
   "execution_count": null,
   "metadata": {},
   "outputs": [],
   "source": []
  }
 ],
 "metadata": {
  "kernelspec": {
   "display_name": "tensor",
   "language": "python",
   "name": "tensor"
  },
  "language_info": {
   "codemirror_mode": {
    "name": "ipython",
    "version": 3
   },
   "file_extension": ".py",
   "mimetype": "text/x-python",
   "name": "python",
   "nbconvert_exporter": "python",
   "pygments_lexer": "ipython3",
   "version": "3.7.1"
  }
 },
 "nbformat": 4,
 "nbformat_minor": 2
}
