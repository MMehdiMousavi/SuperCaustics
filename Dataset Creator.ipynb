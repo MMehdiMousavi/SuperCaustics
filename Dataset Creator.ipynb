{
 "cells": [
  {
   "cell_type": "markdown",
   "metadata": {},
   "source": [
    "# Imports "
   ]
  },
  {
   "cell_type": "markdown",
   "metadata": {},
   "source": [
    "This Notebook is sequentially processing Images from AIP to be used in Cleargrasp Training. \n",
    "The Code currently does not check for many things that can go wrong during copy-pasting data, so definitely make backups from your images before running this. "
   ]
  },
  {
   "cell_type": "code",
   "execution_count": null,
   "metadata": {},
   "outputs": [],
   "source": [
    "import numpy as np\n",
    "import imageio\n",
    "import PIL.Image as Image"
   ]
  },
  {
   "cell_type": "code",
   "execution_count": null,
   "metadata": {},
   "outputs": [],
   "source": [
    "imageio.plugins.freeimage.download()"
   ]
  },
  {
   "cell_type": "markdown",
   "metadata": {},
   "source": [
    "# Make Dataset Folders"
   ]
  },
  {
   "cell_type": "code",
   "execution_count": null,
   "metadata": {},
   "outputs": [],
   "source": [
    "import io\n",
    "import os\n",
    "from glob import glob\n",
    "from PIL import Image, ImageEnhance\n",
    "import numpy as np\n",
    "import shutil\n",
    "\n",
    "#point this to the RAW Screenshots folder. Make Backups before running.\n",
    "os.chdir('E:/')\n",
    "dir_src = ('E:/Dataset/SuperCaustics/')\n",
    "\n",
    "Depth =   (dir_src + \"/Depth/\")\n",
    "Normal = (dir_src + \"/Normal/\")\n",
    "Pic =     (dir_src + \"/Picture/\")\n",
    "Outlines = (dir_src + \"/Outlines/\")\n",
    "Seg = (dir_src + \"/Seg/\")\n",
    "\n",
    "Depth_exr =   (dir_src + \"/Depth_exr/\")\n",
    "Normal_exr = (dir_src + \"/Normal_exr/\")\n",
    "Seg_exr = (dir_src + \"/Seg_exr/\")\n",
    "\n",
    "try:\n",
    "    os.mkdir(Depth)\n",
    "    os.mkdir(Normal)\n",
    "    os.mkdir(Pic)\n",
    "    os.mkdir(Outlines)\n",
    "    os.mkdir(Seg)\n",
    "    os.mkdir(Depth_exr)\n",
    "    os.mkdir(Normal_exr)\n",
    "    os.mkdir(Seg_exr)\n",
    "\n",
    "except OSError:\n",
    "        print('Directory not created.')\n",
    "\n"
   ]
  },
  {
   "cell_type": "markdown",
   "metadata": {},
   "source": [
    "# Move images into their respective folders (Order is important)"
   ]
  },
  {
   "cell_type": "markdown",
   "metadata": {},
   "source": [
    "Use the Same order as you did when capturing your data from AIP SuperCaustics. In my case, I did this in the following order."
   ]
  },
  {
   "cell_type": "code",
   "execution_count": null,
   "metadata": {},
   "outputs": [],
   "source": [
    "counter = 1\n",
    "for filename in os.listdir(dir_src):\n",
    "\n",
    "    if counter == 1:\n",
    "        if filename.endswith('.png'):\n",
    "            shutil.move(dir_src + filename, Pic)\n",
    "            print(\"moved \" + filename, end='\\r')\n",
    "            counter = counter+1\n",
    "\n",
    "    elif counter == 2:\n",
    "        if filename.endswith('.png'):\n",
    "            shutil.move(dir_src + filename, Depth) #Depth\n",
    "            print(\"moved \" + filename, end='\\r')\n",
    "            counter = counter+1\n",
    "\n",
    "    elif counter == 3:\n",
    "        if filename.endswith('.png'):\n",
    "            shutil.move(dir_src + filename, Normal) #Normal\n",
    "            print(\"moved \" + filename, end='\\r')\n",
    "            counter = counter+1\n",
    "            \n",
    "    elif counter == 4:\n",
    "        if filename.endswith('.png'):\n",
    "            shutil.move(dir_src + filename, Outlines) #Outlines\n",
    "            print(\"moved \" + filename, end='\\r')\n",
    "            counter = counter+1\n",
    "\n",
    "    elif counter == 5:\n",
    "        if filename.endswith('.png'):\n",
    "            shutil.move(dir_src + filename, Seg) #Seg\n",
    "            print(\"moved \" + filename, end='\\r')\n",
    "            counter = 1\n"
   ]
  },
  {
   "cell_type": "markdown",
   "metadata": {},
   "source": [
    "# Rename raw images in each folder to have the same name"
   ]
  },
  {
   "cell_type": "code",
   "execution_count": null,
   "metadata": {},
   "outputs": [],
   "source": [
    "i = 0\n",
    "for filename in os.listdir(Pic):\n",
    "    os.rename(Pic + '/' + filename, Pic + '/' + str(i) + '.png')\n",
    "    i = i + 1\n",
    "    print(\"renamed \" + filename, end='\\r')\n",
    "\n",
    "j = 0\n",
    "for filename in os.listdir(Depth):\n",
    "    os.rename(Depth + '/' + filename, Depth + '/' + str(j) + '.png')\n",
    "    j = j + 1\n",
    "    print(\"renamed \" + filename, end='\\r')\n",
    "\n",
    "k = 0\n",
    "for filename in os.listdir(Normal):\n",
    "    os.rename(Normal + '/' + filename, Normal + '/' + str(k) + '.png')\n",
    "    k = k + 1\n",
    "    print(\"renamed \" + filename, end='\\r')\n",
    "    \n",
    "l = 0\n",
    "for filename in os.listdir(Outlines):\n",
    "    os.rename(Outlines + '/' + filename, Outlines + '/' + str(l) + '.png')\n",
    "    l = l + 1\n",
    "    print(\"renamed \" + filename, end='\\r')\n",
    "    \n",
    "m = 0\n",
    "for filename in os.listdir(Seg):\n",
    "    os.rename(Seg + '/' + filename, Seg + '/' + str(m) + '.png')\n",
    "    m = m + 1\n",
    "    print(\"renamed \" + filename, end='\\r')\n"
   ]
  },
  {
   "cell_type": "markdown",
   "metadata": {},
   "source": [
    "# Converting To EXR for Cleargrasp"
   ]
  },
  {
   "cell_type": "markdown",
   "metadata": {},
   "source": [
    "Cleargrasp uses .EXR files as Ground Truth extension. This step is not required if youre not using EXR format."
   ]
  },
  {
   "cell_type": "code",
   "execution_count": null,
   "metadata": {},
   "outputs": [],
   "source": [
    "for filename in os.listdir(Depth):\n",
    "    address = Depth + filename\n",
    "    newaddress = Depth_exr + filename\n",
    "    image = Image.open(address)\n",
    "    arr = np.asarray(image)\n",
    "    arr = arr.astype(\"float32\")\n",
    "    imageio.imwrite(newaddress.replace('.png','.exr'), arr)\n",
    "    print(filename + 'Processed.', end='\\r')\n",
    "\n",
    "print('Depth EXRs Created.')\n",
    "    \n",
    "for filename in os.listdir(Normal):\n",
    "    address = Normal + filename\n",
    "    newaddress = Normal_exr + filename\n",
    "    image = Image.open(address)\n",
    "    arr = np.asarray(image)\n",
    "    arr = arr.astype(\"float32\")\n",
    "    imageio.imwrite(newaddress.replace('.png','.exr'), arr)\n",
    "    print(filename + 'Processed.', end='\\r')\n",
    "    \n",
    "print('Normal EXRs Created.')\n",
    "    \n",
    "for filename in os.listdir(Seg):\n",
    "    address = Seg + filename\n",
    "    newaddress = Seg_exr + filename\n",
    "    image = Image.open(address)\n",
    "    arr = np.asarray(image)\n",
    "    arr = arr.astype(\"float32\")\n",
    "    imageio.imwrite(newaddress.replace('.png','.exr'), arr)\n",
    "    print(filename + 'Processed.', end='\\r')\n",
    "    \n",
    "print('Seg EXRs Created.')\n",
    "    "
   ]
  },
  {
   "cell_type": "code",
   "execution_count": null,
   "metadata": {},
   "outputs": [],
   "source": []
  }
 ],
 "metadata": {
  "kernelspec": {
   "display_name": "tensor",
   "language": "python",
   "name": "tensor"
  },
  "language_info": {
   "codemirror_mode": {
    "name": "ipython",
    "version": 3
   },
   "file_extension": ".py",
   "mimetype": "text/x-python",
   "name": "python",
   "nbconvert_exporter": "python",
   "pygments_lexer": "ipython3",
   "version": "3.7.1"
  }
 },
 "nbformat": 4,
 "nbformat_minor": 2
}
